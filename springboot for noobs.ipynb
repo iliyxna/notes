{
 "cells": [
  {
   "cell_type": "markdown",
   "id": "bc1e68a0",
   "metadata": {},
   "source": [
    "<h1> Springboot </h1>\n",
    "<i>in layman terms (for noobs, me) </i>"
   ]
  },
  {
   "cell_type": "markdown",
   "id": "b3363598",
   "metadata": {},
   "source": [
    "To copy topic headers for lazy people like me\n",
    "\n",
    "Format\n",
    "<b>text</b> - <i>desc</i> (layman example)"
   ]
  },
  {
   "cell_type": "markdown",
   "id": "58e73085",
   "metadata": {},
   "source": [
    "<h4>What is springboot?</h4>"
   ]
  },
  {
   "cell_type": "markdown",
   "id": "9b94870b",
   "metadata": {},
   "source": [
    "Framework that helps us build Java applications easily - especially web apps & APIs, without needing to configure a bunch of complicated stuff manually (less painful)\n",
    "\n",
    "How does it do that?\n",
    "1. Automatically configuring our app \n",
    "2. Embedding a web server (so we dont have to install or deploy one) -> tomcat\n",
    "3. Packaging everything into a single runnable .jar file (java archvie file, basically a package that bundles together all the compiled java classes, resources, and libraries our app needs to run)\n",
    "4. Simplifying dependencies (using 'starters' like spring-boot-starter-web)\n",
    "\n",
    "So with this, we can just focus on writing code and run our app instantly - usually on localhost://8080"
   ]
  },
  {
   "cell_type": "markdown",
   "id": "93604039",
   "metadata": {},
   "source": [
    "<h4>Basic Components</h4>"
   ]
  },
  {
   "cell_type": "markdown",
   "id": "557f02ac",
   "metadata": {},
   "source": [
    "<b>Main application class</b> - <i>the entry point</i>\n",
    "(i cant code java in .ipynb so im using md...)"
   ]
  },
  {
   "cell_type": "markdown",
   "id": "a403d689",
   "metadata": {},
   "source": [
    "@SpringBootApplication\n",
    "public class MyApp {\n",
    "        public static void main(String[] main) {\n",
    "            SpringApplication.run(MyApp.class, args);\n",
    "        }\n",
    "}\n",
    "\n",
    "when we run this, springboot will automatically:\n",
    "1. starts an embedded server (like Tomcat)\n",
    "2. load our app's components\n",
    "3. make it accessible on port 8080 (default, you can set in in properties file, server.port=8080)"
   ]
  },
  {
   "cell_type": "markdown",
   "id": "ba6af3a7",
   "metadata": {},
   "source": [
    "<b>Controller</b> - <i> listens for requests and sends responses back</i> (like the waiter in the restaurant 🍽️)"
   ]
  },
  {
   "cell_type": "markdown",
   "id": "f354e178",
   "metadata": {},
   "source": [
    "@RestController\n",
    "public class HelloController() {\n",
    "    @GetMapping(\"/hello\")\n",
    "    public String sayHello() {\n",
    "        return \"Hello 小可爱们~\";\n",
    "    }\n",
    "}\n",
    "\n",
    "and from here, if we go to http://localhost:8080/hello, we'll see: Hello 小可爱们~"
   ]
  },
  {
   "cell_type": "markdown",
   "id": "31bb3145",
   "metadata": {},
   "source": [
    "<b>Service</b> - <i>handles all business logic, which is the main work our app needs to do</i> (THE CHEF 👨‍🍳)"
   ]
  },
  {
   "cell_type": "markdown",
   "id": "a21ceb80",
   "metadata": {},
   "source": [
    "@Service\n",
    "public class HelloService() {\n",
    "    public String getGreeting() {\n",
    "        return \"Hello from the 逻辑大可爱 (service)!\"\n",
    "    }\n",
    "}\n",
    "\n",
    "then, our controllers can call this service:\n",
    "@RestController\n",
    "public class HelloController(){\n",
    "        private final HelloService helloService;\n",
    "\n",
    "        public HelloController(HelloService helloService) {\n",
    "            this.helloService = helloService;\n",
    "        }\n",
    "\n",
    "        @GetMapping(\"/hello\")\n",
    "         public String sayHello() {\n",
    "            return helloService.getGreeting();              // no need to code logic here anymore like in the controller example above\n",
    "        }\n",
    "}"
   ]
  },
  {
   "cell_type": "markdown",
   "id": "120ecb78",
   "metadata": {},
   "source": [
    "<b>Repository</b> - <i>handles communication with our DB like MySQL/PostgreSQL, etc.</i> (the db handler, inventory manager) "
   ]
  },
  {
   "cell_type": "markdown",
   "id": "dd6c65cb",
   "metadata": {},
   "source": [
    "@Repository\n",
    "public interface UserRepository extends JpaRepository<User, Long> {\n",
    "}\n",
    "\n",
    "springboot will automatically provide the common db methods - so we don't have to write SQL for basic operations like save(), findAll() and so on"
   ]
  },
  {
   "cell_type": "markdown",
   "id": "dec7ab4f",
   "metadata": {},
   "source": [
    "<b>Model (Entity)</b> - <i>the data blueprint</i> (defines how our datal looks, like a recipe card?)"
   ]
  },
  {
   "cell_type": "markdown",
   "id": "d4534041",
   "metadata": {},
   "source": [
    "@Entity\n",
    "public class User {\n",
    "    @Id\n",
    "    @GeneratedValue(strategy = GenerationType.IDENTITY)\n",
    "    private long id;\n",
    "    private String name;\n",
    "}\n",
    "\n",
    "this matches our db table: User"
   ]
  },
  {
   "cell_type": "markdown",
   "id": "a63cef83",
   "metadata": {},
   "source": [
    "<b>application.properties or application.yml</b> - <i>the config file</i> (the settings sheet)"
   ]
  },
  {
   "cell_type": "markdown",
   "id": "709bf966",
   "metadata": {},
   "source": [
    "server.port=8081\n",
    "spring.datasource.url=jdbc:mysql://localhost:3306/mydb\n",
    "spring.datasource.username=root\n",
    "spring.datasource.password=1234"
   ]
  },
  {
   "cell_type": "markdown",
   "id": "7866098e",
   "metadata": {},
   "source": [
    "<b>Embedded Server, Tomcat</b> - <i>the mini web server inside springboot, so when we run the app, it automatically starts Tomcat</i> (tiny built-in web host)"
   ]
  },
  {
   "cell_type": "markdown",
   "id": "071a575a",
   "metadata": {},
   "source": [
    "http://localhost:8080\n",
    "\n",
    "no need to install anything extra, springboot brings its own tomcat (saviour)"
   ]
  },
  {
   "cell_type": "markdown",
   "id": "6e137adf",
   "metadata": {},
   "source": [
    "<b>Dependencies</b> - <i>the \"starters\"</i> (like pre-packaged toolkits)"
   ]
  },
  {
   "cell_type": "markdown",
   "id": "a26b9d51",
   "metadata": {},
   "source": [
    "examples:\n",
    "- spring-boot-starter-web\n",
    "    for web apps & APIs\n",
    "- spring-boot-starter-data-jpa \n",
    "    for db stuff\n",
    "- spring-boot-starter-test \n",
    "    for testing\n",
    "\n",
    "just include all these in the pom.xml (Maven)"
   ]
  }
 ],
 "metadata": {
  "language_info": {
   "name": "python"
  }
 },
 "nbformat": 4,
 "nbformat_minor": 5
}
